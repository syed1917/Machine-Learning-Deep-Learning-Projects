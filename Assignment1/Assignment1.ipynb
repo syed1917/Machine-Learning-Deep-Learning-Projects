{
 "cells": [
  {
   "cell_type": "markdown",
   "metadata": {},
   "source": [
    "## PROG8245 Assignment 1: (Total Marks 100)\n",
    "## Start on 16th of September- Due on 27th of September"
   ]
  },
  {
   "cell_type": "markdown",
   "metadata": {},
   "source": [
    "- TODO: write your name and ID below\n",
    "- Name: Syed Muzammil Syed Riyaz Ahamed\n",
    "- ID: 9012161\n",
    "- Kindly note that this assignment is to be solved by yourself, without the use of AI and chatbots.\n",
    "- If chatbot usage is detected, the penalty that is discussed in Week 1 slides will apply.\n",
    "- Each code block will have a Todo comment which explains the functionality, expected input, and expected output of the function.\n",
    "- There are 10 marks in this assignment for assuring that the code couldn't be broken (no errors can be thrown, please consider mathematical and logical errors)\n",
    "- There are 10 marks in this assignment for commenting and code readability.\n"
   ]
  },
  {
   "cell_type": "markdown",
   "metadata": {},
   "source": [
    "### Part 1: Python Basics"
   ]
  },
  {
   "cell_type": "markdown",
   "metadata": {},
   "source": [
    "#### Question 1:"
   ]
  },
  {
   "cell_type": "code",
   "execution_count": 6,
   "metadata": {},
   "outputs": [
    {
     "name": "stdout",
     "output_type": "stream",
     "text": [
      "The final amount after tax: 79.1\n"
     ]
    }
   ],
   "source": [
    "def total_price(price, tax):\n",
    "    # 3 marks\n",
    "    # TODO: write the functionality of the code where\n",
    "    #  you are taking as an input a price of an item and the\n",
    "    #  tax in decimal (13% tax will be given as 0.13),\n",
    "    #  you should return the taxedPrice of that item\n",
    "    #  which will be the total price after tax a customer must pay\n",
    "    # (The price of the item plus the applicable taxes)\n",
    "\n",
    "    # Calculating the taxed amount\n",
    "    tax_amount = price * tax\n",
    "    price_after_tax = price + tax_amount\n",
    "    \n",
    "    return price_after_tax\n",
    "\n",
    "# Method calling, assigning values and displaying the output\n",
    "x = 10\n",
    "price = 70\n",
    "tax = 0.13\n",
    "final_price = total_price(price, tax)\n",
    "print(\"The final amount after tax:\", final_price)\n"
   ]
  },
  {
   "cell_type": "markdown",
   "metadata": {},
   "source": [
    "#### Question 2:"
   ]
  },
  {
   "cell_type": "code",
   "execution_count": 7,
   "metadata": {},
   "outputs": [
    {
     "name": "stdout",
     "output_type": "stream",
     "text": [
      "True\n"
     ]
    }
   ],
   "source": [
    "def divisible_by(x, y):\n",
    "    # 3 marks\n",
    "    # TODO: write a function that returns True if x is divisible by y,\n",
    "    #  and returns False OTHERWISE (all other cases).\n",
    "\n",
    "    # Checking the divisibility\n",
    "    if x % y == 0:\n",
    "        return True\n",
    "\n",
    "    return False\n",
    "\n",
    "# Method calling, assigning values and displaying the output\n",
    "x = 10\n",
    "x = 10\n",
    "y = 2\n",
    "print(divisible_by(x,y))"
   ]
  },
  {
   "cell_type": "markdown",
   "metadata": {},
   "source": [
    "#### Question 3:"
   ]
  },
  {
   "cell_type": "code",
   "execution_count": 8,
   "metadata": {},
   "outputs": [
    {
     "name": "stdout",
     "output_type": "stream",
     "text": [
      "The addition value of x an y is 12\n",
      "\n",
      "The subtraction value of x an y is 8\n",
      "\n",
      "The multiplication value of x an y is 20\n",
      "\n",
      "The division value of x an y is 5.0\n",
      "\n",
      "The modulus value of x an y is 0\n",
      "\n",
      "The integer division value of x an y is 5\n"
     ]
    }
   ],
   "source": [
    "def basic_calculator(x, y, operator):\n",
    "    # 5 marks\n",
    "    # TODO: write the functionality of the code where you are\n",
    "    #  coding a basic calculator that performs basic addition \"+\", subtraction \"-\",\n",
    "    #  multiplication \"*\", division \"/\", modulus \"%\" and integer division \"//\"\n",
    "    #  the function must apply the operator to x and y for example:\n",
    "    #  basicCalculator(10, 15, \"*\") should apply 10*15 and save it to the result variable\n",
    "    #  NOTE: YOU NEED TO HANDLE DIVISION ERRORS BY RETURNING A STRING WITH THE WORD \"error\"\n",
    "    #  NOTE: YOU NEED TO HANDLE AN INVALID OPERATOR BY RETURNING A STRING HAVING THE WORD \"invalid\"\n",
    "\n",
    "     # Conditions for basic calculator\n",
    "\n",
    "     # Addition\n",
    "     if operator == \"+\":\n",
    "          result = x + y\n",
    "     \n",
    "     # Subtraction\n",
    "     elif operator == \"-\":\n",
    "          result = x - y \n",
    "\n",
    "     # Multiplication\n",
    "     elif operator == \"*\":\n",
    "          result = x*y \n",
    "\n",
    "     # Division\n",
    "     elif operator == \"/\":\n",
    "          if y != 0:\n",
    "               result = x/y \n",
    "          else:\n",
    "               result = print(\"\\nCannot divide by zero\")\n",
    "\n",
    "     # Modulus\n",
    "     elif operator == \"%\":\n",
    "          if y != 0:\n",
    "               result = x%y\n",
    "          else:\n",
    "               result = print(\"\\nCannot divide by zero\")\n",
    "\n",
    "     # Integer Division\n",
    "     elif operator == \"//\":\n",
    "          if y != 0:\n",
    "               result = x//y\n",
    "          else:\n",
    "               result = print(\"\\nCannot divide by zero\")\n",
    "     else:\n",
    "          return(\"\\nInvalid Operand\")\n",
    "          \n",
    "     return result\n",
    "\n",
    "\n",
    "# Method calling, assigning values and displaying the output\n",
    "x = 10\n",
    "y = 2\n",
    "addition = basic_calculator(x, y, \"+\")\n",
    "print(f\"The addition value of x an y is {addition}\")\n",
    "\n",
    "subtract = basic_calculator(x, y, \"-\")\n",
    "print(f\"\\nThe subtraction value of x an y is {subtract}\")\n",
    "\n",
    "multiply = basic_calculator(x, y, \"*\")\n",
    "print(f\"\\nThe multiplication value of x an y is {multiply}\")\n",
    "\n",
    "divide = basic_calculator(x, y, \"/\")\n",
    "\n",
    "modulus = basic_calculator(x, y, \"%\")\n",
    "\n",
    "int_divide = basic_calculator(x, y, \"//\")\n",
    "\n",
    "\n",
    "if y != 0:\n",
    "     print(f\"\\nThe division value of x an y is {divide}\")\n",
    "     print(f\"\\nThe modulus value of x an y is {modulus}\")\n",
    "     print(f\"\\nThe integer division value of x an y is {int_divide}\")\n",
    "\n",
    "   "
   ]
  },
  {
   "cell_type": "markdown",
   "metadata": {},
   "source": [
    "#### Question 4:"
   ]
  },
  {
   "cell_type": "code",
   "execution_count": 9,
   "metadata": {},
   "outputs": [
    {
     "name": "stdout",
     "output_type": "stream",
     "text": [
      "The sum of of even numbers are: 30\n"
     ]
    }
   ],
   "source": [
    "def sum_of_even(numbers_list):\n",
    "    # 3 marks\n",
    "    # TODO: write the functionality of the code where you are\n",
    "    # taking as an input a list of numbers\n",
    "    # returning the sum of even numbers in the list\n",
    "    # NOTE: YOU NEED TO HANDLE ERRORS OF GIVING LIST OF STRINGS OR/AND\n",
    "    #  STRINGS WITH NUMBERS by returning \"invalid\"\n",
    "    # sum_of_even([1,2,3,4,5,6]) = 12\n",
    "\n",
    "    result = 0\n",
    "    for number in numbers_list:\n",
    "        if number % 2 == 0:\n",
    "            result += number\n",
    "    return result\n",
    "\n",
    "# Method calling, assigning values and displaying the output\n",
    "x = 10\n",
    "num_list = ([1,2,3,4,5,6,7,8,9,10])\n",
    "\n",
    "print(\"The sum of of even numbers are:\", sum_of_even(num_list))"
   ]
  },
  {
   "cell_type": "markdown",
   "metadata": {},
   "source": [
    "#### Question 5:"
   ]
  },
  {
   "cell_type": "code",
   "execution_count": 10,
   "metadata": {},
   "outputs": [
    {
     "name": "stdout",
     "output_type": "stream",
     "text": [
      "The reversed value is: dlroW olleH\n",
      "The reversed value is: 54321\n"
     ]
    }
   ],
   "source": [
    "def reverse_string(input_string):\n",
    "    # 3 marks\n",
    "    # TODO: write the functionality of the code where you are\n",
    "    # taking as an input a string\n",
    "    # returns the reverse of the string\n",
    "    # reverse_string(\"hello\") = \"olleh\"\n",
    "    # NOTE: Numbers should be handled as strings ex: 123 returns \"321\"\n",
    "\n",
    "    input_string = str(input_string)\n",
    "    reversed_string = \"\"\n",
    "\n",
    "    # Performing reverse string operation\n",
    "    for char in input_string:\n",
    "        reversed_string = char + reversed_string\n",
    "    return reversed_string\n",
    "\n",
    "# Method calling, assigning values and displaying the output\n",
    "string_value = \"Hello World\"\n",
    "integer_value = 12345\n",
    "print(\"The reversed value is:\", reverse_string(string_value))\n",
    "print(\"The reversed value is:\", reverse_string(integer_value))"
   ]
  },
  {
   "cell_type": "markdown",
   "metadata": {},
   "source": [
    "#### Question 6:"
   ]
  },
  {
   "cell_type": "code",
   "execution_count": 11,
   "metadata": {},
   "outputs": [
    {
     "name": "stdout",
     "output_type": "stream",
     "text": [
      "  *\n",
      " ***\n",
      "*****\n",
      " ***\n",
      "  *\n"
     ]
    }
   ],
   "source": [
    "def diamond_string(length):\n",
    "    # 5 marks\n",
    "    # TODO: write the functionality of the code where you are\n",
    "    # taking as an input a POSITIVE ODD length\n",
    "    # saves in a string the diamond as follows:\n",
    "    # diamond_string(5)\n",
    "    #   *\n",
    "    #  ***\n",
    "    # *****\n",
    "    #  ***\n",
    "    #   *\n",
    "    # NOTE: The input must be positive odd, if not return empty string \"\"   \n",
    "\n",
    "    # Check for odd numbers\n",
    "    if length <= 0 | length % 2 == 0:\n",
    "        return \"\"\n",
    "    \n",
    "    diamond = []\n",
    "\n",
    "    # Upper half\n",
    "    for i in range(length//2 + 1):\n",
    "        spaces = ' ' * (length//2 - i)\n",
    "        stars = '*' * (2 * i + 1)\n",
    "        diamond.append(spaces + stars)\n",
    "\n",
    "    # Lower half\n",
    "    for i in range(length//2 - 1, -1, -1):\n",
    "        spaces = ' ' * (length//2 - i)\n",
    "        stars = '*' * (2 * i + 1)\n",
    "        diamond.append(spaces + stars)\n",
    "    \n",
    "    return '\\n' .join(diamond)\n",
    "\n",
    "# Method calling, assigning values and displaying the output\n",
    "length = 5\n",
    "diamond = diamond_string(length)\n",
    "print(diamond)\n"
   ]
  },
  {
   "cell_type": "markdown",
   "metadata": {},
   "source": [
    "#### Question 7:"
   ]
  },
  {
   "cell_type": "code",
   "execution_count": 12,
   "metadata": {},
   "outputs": [
    {
     "name": "stdout",
     "output_type": "stream",
     "text": [
      "The longest consecutive subarray is 4\n"
     ]
    }
   ],
   "source": [
    "def longest_consecutive_subarray(number_array):\n",
    "    # 8 marks\n",
    "    # TODO: write the functionality of the code where you are\n",
    "    # taking as an input an array of REAL NUMBERS\n",
    "    # return the length of the longest subarray that could be\n",
    "    # built using the input\n",
    "    # longest_consecutive_subarray([100, 4, 200, 1, 3, 2]) = 4\n",
    "    # Function should return 4 which represents in this case\n",
    "    # the longest_consecutive_subarray that could be built [1,2,3,4]\n",
    "    # You can't use Built in Sorting!\n",
    "    # Note: - If any error exists in the input, \"error\" should be returned\n",
    "    #       - The difference between any 2 consecuetive numbers is 1.\n",
    "\n",
    "    # Checking the input type and datatype\n",
    "    if isinstance(number_array, list) != True | all(isinstance(x, (int, float)) for x in number_array) != True:\n",
    "        return \"error\"\n",
    "    \n",
    "    for num in number_array:\n",
    "\n",
    "        # Checking if it's the start of a sequence\n",
    "        if num - 1 not in number_array:\n",
    "            current_num = num\n",
    "            current_streak = 1\n",
    "            \n",
    "            # Incrementing and checking for consecutive numbers\n",
    "            while current_num + 1 in number_array:\n",
    "                current_num += 1\n",
    "                current_streak += 1\n",
    "    \n",
    "    return current_streak\n",
    "\n",
    "num_array = [100, 4, 200, 1, 3, 2]\n",
    "longest_array = longest_consecutive_subarray(num_array) \n",
    "print(f\"The longest consecutive subarray is {longest_array}\") "
   ]
  },
  {
   "cell_type": "markdown",
   "metadata": {},
   "source": [
    "#### Question 8 (Challenging):"
   ]
  },
  {
   "cell_type": "code",
   "execution_count": 13,
   "metadata": {},
   "outputs": [
    {
     "name": "stdout",
     "output_type": "stream",
     "text": [
      "True\n",
      "False\n"
     ]
    }
   ],
   "source": [
    "def can_be_segmented(input_string, word_dict):\n",
    "    # 15 marks\n",
    "    # TODO: Write the functionality of the code where you\n",
    "    # are given as an input a string and a word_dict\n",
    "    # Your target is to return True, if input_string can be segmented\n",
    "    # (broken-down) into a sequence of one or more dictionary words\n",
    "    # otherwise return False\n",
    "    # Sample Input: can_be_segmented(\"applepenapple\", {'apple','pen'}) ==> True\n",
    "    # Sample Input: can_be_segmented(\"catsandog\", {'cats','dog','sand','and','cat'}) ==> False\n",
    "    # Hint: You can start by checking which prefix exist in the dictionary, and call the same function recursively\n",
    "    # on the remaining string.\n",
    "    \n",
    "    # Checks the string character by character\n",
    "    if input_string == '':\n",
    "        return True\n",
    "        \n",
    "    # Segmentation process\n",
    "    for i in range(1, len(input_string) + 1):\n",
    "        prefix = input_string[:i]\n",
    "        if prefix in word_dict:\n",
    "            if can_be_segmented(input_string[i:], word_dict):\n",
    "                return True\n",
    "                    \n",
    "            return False\n",
    "\n",
    "# Method calling, assigning values and displaying the output\n",
    "print(can_be_segmented(\"applepenapple\", {'apple','pen'}))\n",
    "print(can_be_segmented(\"catsandog\", {'cats','an','dog','and','cat'}))"
   ]
  },
  {
   "cell_type": "markdown",
   "metadata": {},
   "source": [
    "### Part 2: Numpy Basics: \n",
    "- In this Part of the assignment, you are <b>ONLY ALLOWED</b> to use Numpy and its functions. \n",
    "- You are not expected to use Loops."
   ]
  },
  {
   "cell_type": "code",
   "execution_count": 14,
   "metadata": {},
   "outputs": [],
   "source": [
    "import numpy as np"
   ]
  },
  {
   "cell_type": "markdown",
   "metadata": {},
   "source": [
    "#### Question 9:"
   ]
  },
  {
   "cell_type": "code",
   "execution_count": 15,
   "metadata": {},
   "outputs": [
    {
     "name": "stdout",
     "output_type": "stream",
     "text": [
      "False\n",
      "True\n"
     ]
    }
   ],
   "source": [
    "def no_zeros(array_input):\n",
    "    # 3 marks\n",
    "    ## TODO: This function should return True if \n",
    "    ## numpy array arrayInput does not contain any zero\n",
    "    ## and will return False otherwise.\n",
    "    ## Implement this function using ONLY numpy methods\n",
    "    ## Sample input: np.array([1,2,3,4,5,6,0]) Sample Output: False\n",
    "    ## Sample input: np.array([1,2,3,4,5,6]) Sample Output: True\n",
    "\n",
    "    # Checking the array if it contains zero\n",
    "    nonZeroValues = np.all(array_input)\n",
    "    return nonZeroValues\n",
    "\n",
    "# Method calling, assigning values and displaying the output\n",
    "array1 = np.array([1,2,3,4,5,6,0])\n",
    "array2 = np.array([1,2,3,4,5,6])\n",
    "print(no_zeros(array1))\n",
    "print(no_zeros(array2))\n"
   ]
  },
  {
   "cell_type": "markdown",
   "metadata": {},
   "source": [
    "#### Question 10:"
   ]
  },
  {
   "cell_type": "code",
   "execution_count": 16,
   "metadata": {},
   "outputs": [
    {
     "name": "stdout",
     "output_type": "stream",
     "text": [
      "[[1 1 1]\n",
      " [1 0 1]\n",
      " [1 1 1]]\n"
     ]
    }
   ],
   "source": [
    "def two_dimensions(n):\n",
    "    # 7 marks\n",
    "    ## TODO: This function should create a 2d Array of shape n*n for any positive number\n",
    "    ## Where the borders of the array are ones\n",
    "    ## all other elements are zero\n",
    "    ## Implement this function using ONLY numpy methods\n",
    "    ## Sample input 3\n",
    "    ## sample output [[1,1,1],[1,0,1],[1,1,1]]\n",
    "\n",
    "    array = np.zeros((n, n), dtype = int)\n",
    "\n",
    "    # Sets 1 for the top row\n",
    "    array[0,:] = 1\n",
    "\n",
    "    # Sets 1 for Bottom row\n",
    "    array[2,:] = 1\n",
    "\n",
    "    # Sets 1 for Right column\n",
    "    array[:,2] = 1\n",
    "\n",
    "    # Sets 1 for Left column\n",
    "    array[:,0] = 1\n",
    "    \n",
    "    return array\n",
    "\n",
    "# Method calling, assigning values and displaying the output\n",
    "n = 3\n",
    "print(two_dimensions(n))"
   ]
  },
  {
   "cell_type": "markdown",
   "metadata": {},
   "source": [
    "#### Question 11:"
   ]
  },
  {
   "cell_type": "code",
   "execution_count": 17,
   "metadata": {},
   "outputs": [
    {
     "name": "stdout",
     "output_type": "stream",
     "text": [
      "Randomly generated values:\n",
      "\n",
      "[[10  3  8]\n",
      " [ 9  4  5]\n",
      " [ 0 11 12]]\n"
     ]
    }
   ],
   "source": [
    "def random_generation(n,min,max):\n",
    "    # 5 marks\n",
    "    # TODO: Write a function that takes as an input\n",
    "    # Dimension of 2d Array n, min and max\n",
    "    # Generate an n*n array with random numbers between\n",
    "    # min and max inclusive\n",
    "    # Such that no element is duplicated\n",
    "    # return numpy array\n",
    "    # Implement this function using ONLY numpy methods\n",
    "    # Sample Input: random_generation(3,0,12) --> [[4,2,6],[1,5,11],[10, 3,9]]\n",
    "\n",
    "    # Total number of elements\n",
    "    total_elements = n * n\n",
    "\n",
    "    # Assigning random numbers for the number of elements with the given min and max values\n",
    "    random_number = np.random.permutation(np.arange(min, max + 1))[:total_elements]\n",
    "\n",
    "    return random_number.reshape(n, n)\n",
    "\n",
    "# Method calling, assigning values and displaying the output\n",
    "n = 3\n",
    "min_value = 0\n",
    "max_value = 12\n",
    "print(\"Randomly generated values:\\n\")\n",
    "print(random_generation(n, min_value, max_value))"
   ]
  },
  {
   "cell_type": "markdown",
   "metadata": {},
   "source": [
    "#### Question 12:"
   ]
  },
  {
   "cell_type": "code",
   "execution_count": 18,
   "metadata": {},
   "outputs": [
    {
     "name": "stdout",
     "output_type": "stream",
     "text": [
      "The sum of border values in the give matrix is 40\n"
     ]
    }
   ],
   "source": [
    "def matrix_border_sum(matrix):\n",
    "    # 8 marks\n",
    "    # TODO: Write a function that takes as an input a matrix\n",
    "    # and return the sum of all elements in the borders\n",
    "    # Implement this function using ONLY numpy methods\n",
    "    # Sample Input: np.array([[1,2,3],\n",
    "    #                         [4,5,6],\n",
    "    #                         [7,8,9]])\n",
    "    # Output: matrix_border_sum(matrix) =  1+2+3+4+6+7+8+9 = 40\n",
    "\n",
    "    # Takes the entire Row 0\n",
    "    top_row = matrix[0, :]\n",
    "\n",
    "    # Takes the entire Row 2\n",
    "    bottom_row = matrix[2, :]\n",
    "\n",
    "    # Takes Column 0 by excluding thw values in Row 0 and 1\n",
    "    left_column = matrix[1:2, 0]\n",
    "\n",
    "    # Takes Column 1 by excluding thw values in Row 0 and 1\n",
    "    right_column = matrix[1:2, 2]\n",
    "\n",
    "    # Summation of the border matrix values\n",
    "    sum_matrix = np.sum(top_row) + np.sum(bottom_row) + np.sum(left_column) + np.sum(right_column)\n",
    "    return sum_matrix\n",
    "\n",
    "# Method calling, assigning values and displaying the output\n",
    "matrix = np.array([[1, 2, 3], [4, 5, 6], [7, 8, 9]])\n",
    "sum = matrix_border_sum(matrix)\n",
    "print(f\"The sum of border values in the give matrix is {sum}\")"
   ]
  },
  {
   "cell_type": "markdown",
   "metadata": {},
   "source": [
    "### Part 3: Pandas"
   ]
  },
  {
   "cell_type": "code",
   "execution_count": 19,
   "metadata": {},
   "outputs": [],
   "source": [
    "import pandas as pd"
   ]
  },
  {
   "cell_type": "markdown",
   "metadata": {},
   "source": [
    "#### Question 13 (12 marks): \n",
    "- Using RegularSeasonCompactResults.csv and Teams.csv apply the following functionalities"
   ]
  },
  {
   "cell_type": "code",
   "execution_count": 20,
   "metadata": {},
   "outputs": [
    {
     "name": "stdout",
     "output_type": "stream",
     "text": [
      "Data in the RegularSeasonCompactResults file is displayed below:\n",
      "\n",
      "   Season  Daynum  Wteam  Wscore  Lteam  Lscore Wloc  Numot\n",
      "0    1985      20   1228      81   1328      64    N      0\n",
      "1    1985      25   1106      77   1354      70    H      0\n",
      "2    1985      25   1112      63   1223      56    H      0\n",
      "3    1985      25   1165      70   1432      54    H      0\n",
      "4    1985      25   1192      86   1447      74    H      0\n",
      "\n",
      "The number of matches that are turned out to be draw is 0\n"
     ]
    }
   ],
   "source": [
    "# Using RegularSeasonCompactResults.csv\n",
    "# 1- Create a filter to show if there are any draw matches\n",
    "# 2- Apply the filter to the dataframe\n",
    "# 3- SHOW/PRINT the dataframe length or count (4 marks)\n",
    "## TODO: Your code should be here\n",
    "\n",
    "class Results:\n",
    "\n",
    "    def results():\n",
    "\n",
    "        # Reading the csv file\n",
    "        df = pd.read_csv('D:\\Machine Learning Programming\\Assignments\\Assignment 1\\RegularSeasonCompactResults.csv')\n",
    "\n",
    "        # Displaying the data\n",
    "        print(\"Data in the RegularSeasonCompactResults file is displayed below:\\n\")\n",
    "        print(df.head())\n",
    "\n",
    "        # Checking for draw matches\n",
    "        draw_matches = df[df['Wscore'] == df['Lscore']]\n",
    "\n",
    "        draw_matches_count = len(draw_matches)\n",
    "\n",
    "        print (f\"\\nThe number of matches that are turned out to be draw is {draw_matches_count}\")\n",
    "\n",
    "# Creating object for a class, Method calling and displaying the output\n",
    "result = Results\n",
    "result.results()"
   ]
  },
  {
   "cell_type": "code",
   "execution_count": 21,
   "metadata": {},
   "outputs": [
    {
     "name": "stdout",
     "output_type": "stream",
     "text": [
      "The winning team and its seasons are displayed below:\n",
      "\n",
      "        Season  Daynum  Wteam  Wscore  Lteam  Lscore Wloc  Numot\n",
      "124186    2013      10   1339      51   1226      48    H      0\n",
      "124518    2013      16   1339      81   1340      60    H      0\n",
      "125428    2013      42   1339      69   1167      51    H      0\n",
      "125513    2013      44   1339      74   1316      64    H      0\n",
      "125713    2013      48   1339      57   1133      55    N      0\n",
      "126438    2013      68   1339      68   1258      64    A      0\n",
      "127598    2013      94   1339      69   1258      60    H      0\n",
      "127925    2013     101   1339      78   1362      76    A      0\n",
      "128246    2013     108   1339      70   1360      67    H      0\n"
     ]
    }
   ],
   "source": [
    "# Using RegularSeasonCompactResults.csv\n",
    "# 1- Create a filter showing the entries where the winningteamID= 1400- (last two digits of your id)\n",
    "# 2- Create another filter for the season of 2013\n",
    "# 3- Apply the filter to the dataframe\n",
    "# 4- Show the resulted dataframe (4 marks)\n",
    "# (Example: IF your id is 8000021, the winning team id = 1400-21= 1379)\n",
    "# TODO: Your code should be here\n",
    "\n",
    "class Season:\n",
    "    \n",
    "    def seasons():\n",
    "\n",
    "        # Reading the csv file\n",
    "        df = pd.read_csv('D:\\Machine Learning Programming\\Assignments\\Assignment 1\\RegularSeasonCompactResults.csv')\n",
    "        winning_team_id = 1400 - 61\n",
    "\n",
    "        # Apply the filters for the winning team and the season of 2013\n",
    "        filtered_df = df[(df['Wteam'] == winning_team_id) & (df['Season'] == 2013)]\n",
    "\n",
    "        return filtered_df\n",
    "\n",
    "# Creating object for a class, Method calling and displaying the output\n",
    "season = Season\n",
    "print(\"The winning team and its seasons are displayed below:\\n\")\n",
    "print(season.seasons())\n"
   ]
  },
  {
   "cell_type": "code",
   "execution_count": 22,
   "metadata": {},
   "outputs": [
    {
     "name": "stdout",
     "output_type": "stream",
     "text": [
      "The dataframe of the RegularSeasonCompactResults is displayed below:\n",
      "\n",
      "   Season  Daynum  Wteam  Wscore  Lteam  Lscore Wloc  Numot\n",
      "0    1985      20   1228      81   1328      64    N      0\n",
      "1    1985      25   1106      77   1354      70    H      0\n",
      "2    1985      25   1112      63   1223      56    H      0\n",
      "3    1985      25   1165      70   1432      54    H      0\n",
      "4    1985      25   1192      86   1447      74    H      0\n",
      "\n",
      "The dataframe of the Teams is displayed below:\n",
      "\n",
      "   Team_Id    Team_Name\n",
      "0     1101  Abilene Chr\n",
      "1     1102    Air Force\n",
      "2     1103        Akron\n",
      "3     1104      Alabama\n",
      "4     1105  Alabama A&M\n",
      "\n",
      "The combined dataframe of RegularSeasonCompactResults and Teams is displayed below:\n",
      "\n",
      "   Season  Daynum  Wteam  Wscore  Lteam  Lscore Wloc  Numot  Team_Id Team_Name\n",
      "0    1985      26   1339      73   1334      61    H      0     1339  Portland\n",
      "1    1985      29   1339      82   1363      81    A      0     1339  Portland\n",
      "2    1985      32   1339      46   1186      44    H      0     1339  Portland\n"
     ]
    }
   ],
   "source": [
    "# Using RegularSeasonCompactResults.csv & Teams.csv\n",
    "# 1- Load and merge both dataframes\n",
    "# 2- Where the merge is on WinningTeamId (RegularSeasonCompactResults) and TeamId (Teams.csv)\n",
    "# 3- Name the dataframe: DFCombined\n",
    "# 4- Show the top 3 rows (4 marks)\n",
    "# TODO: Your code should be here\n",
    "\n",
    "class Merge_DF:\n",
    "\n",
    "    def dataframe_merge():\n",
    "\n",
    "        # Reading the csv files\n",
    "        season_df = pd.read_csv('D:\\Machine Learning Programming\\Assignments\\Assignment 1\\RegularSeasonCompactResults.csv')\n",
    "        teams_df = pd.read_csv('D:\\Machine Learning Programming\\Assignments\\Assignment 1\\Teams.csv')\n",
    "\n",
    "        # Displaying the data\n",
    "        print(f\"The dataframe of the RegularSeasonCompactResults is displayed below:\\n\\n{season_df.head()}\")\n",
    "        print(f\"\\nThe dataframe of the Teams is displayed below:\\n\\n{teams_df.head()}\")\n",
    "\n",
    "        # Taking the winning team id based on my Id number\n",
    "        winning_team_id = season_df[season_df['Wteam'] == 1339]\n",
    "        \n",
    "        # Combining the dataframe\n",
    "        DFCombined = pd.merge(winning_team_id, teams_df, left_on='Wteam', right_on='Team_Id')\n",
    "\n",
    "        print(f\"\\nThe combined dataframe of RegularSeasonCompactResults and Teams is displayed below:\\n\\n{DFCombined.head(3)}\")\n",
    "\n",
    "# Creating object for a class, Method calling and displaying the output\n",
    "merge_df = Merge_DF\n",
    "merge_df.dataframe_merge()"
   ]
  }
 ],
 "metadata": {
  "kernelspec": {
   "display_name": "Python 3",
   "language": "python",
   "name": "python3"
  },
  "language_info": {
   "codemirror_mode": {
    "name": "ipython",
    "version": 3
   },
   "file_extension": ".py",
   "mimetype": "text/x-python",
   "name": "python",
   "nbconvert_exporter": "python",
   "pygments_lexer": "ipython3",
   "version": "3.11.8"
  }
 },
 "nbformat": 4,
 "nbformat_minor": 2
}
